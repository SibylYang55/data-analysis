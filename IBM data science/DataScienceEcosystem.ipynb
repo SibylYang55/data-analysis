{
 "cells": [
  {
   "cell_type": "markdown",
   "id": "1e1dfaef-10e4-4560-baf2-a8f59ab26457",
   "metadata": {},
   "source": [
    "# Data Science Tools and Ecosystem"
   ]
  },
  {
   "cell_type": "markdown",
   "id": "e57c39dd-000a-42cc-9a72-d6a1e47db4b8",
   "metadata": {},
   "source": [
    "In this notebook, Data Science Tools and Ecosystem are summarized."
   ]
  },
  {
   "cell_type": "markdown",
   "id": "fdd85f36-2309-470d-a304-4c2387dd6c59",
   "metadata": {},
   "source": [
    "**Objectives:**\n",
    "- python\n",
    "- Jupyter Notebooks\n",
    "- SQL\n",
    "- libraries"
   ]
  },
  {
   "cell_type": "markdown",
   "id": "f379028e-791f-415f-aade-f01b84b66adf",
   "metadata": {},
   "source": [
    "Some of the popular languages that Data Scientists use are:\n",
    "1. python\n",
    "2. R\n",
    "3. SQL"
   ]
  },
  {
   "cell_type": "markdown",
   "id": "65242e10-c511-45ac-9399-afcdcbd71145",
   "metadata": {},
   "source": [
    "Some of the commonly used libraries used by Data Scientists include:\n",
    "1. numpy\n",
    "2. pandas\n",
    "3. sci-kit learn\n",
    "4. matplotlib\n",
    "5. stas"
   ]
  },
  {
   "cell_type": "markdown",
   "id": "6a96cdb0-de79-4234-91c6-82134e705a64",
   "metadata": {},
   "source": [
    "|Data Science Tools|\n",
    "|---|\n",
    "| Jupyter Notebooks |\n",
    "| Hadoop |\n",
    "| RStudio |\n",
    "| TensorFlow.js |\n",
    "| Ggplot2 |\n"
   ]
  },
  {
   "cell_type": "markdown",
   "id": "a6e0cf8b-27f1-4fe4-a539-799a3aa7d8e1",
   "metadata": {},
   "source": [
    "### Below are a few examples of evaluating arithmetic expressions in Python"
   ]
  },
  {
   "cell_type": "code",
   "execution_count": 2,
   "id": "d4553c69-6b6d-498b-a122-6b96ffc0f523",
   "metadata": {},
   "outputs": [
    {
     "data": {
      "text/plain": [
       "17"
      ]
     },
     "execution_count": 2,
     "metadata": {},
     "output_type": "execute_result"
    }
   ],
   "source": [
    "#This a simple arithmetic expression to mutiply then add integers\n",
    "(3*4)+5"
   ]
  },
  {
   "cell_type": "code",
   "execution_count": 3,
   "id": "da9b4ac8-fb23-422d-9da1-c71d311c6b52",
   "metadata": {},
   "outputs": [
    {
     "data": {
      "text/plain": [
       "3.3333333333333335"
      ]
     },
     "execution_count": 3,
     "metadata": {},
     "output_type": "execute_result"
    }
   ],
   "source": [
    "#This will convert 200 minutes to hours by diving by 60\n",
    "200 / 60"
   ]
  },
  {
   "cell_type": "markdown",
   "id": "684aa9d2-b7d6-4ce6-97f8-152850742f37",
   "metadata": {},
   "source": [
    "## Author\n",
    "阳锡红"
   ]
  },
  {
   "cell_type": "code",
   "execution_count": null,
   "id": "56d120b3-37ad-4887-98c1-30ad02fcce14",
   "metadata": {},
   "outputs": [],
   "source": []
  }
 ],
 "metadata": {
  "kernelspec": {
   "display_name": "Python 3 (ipykernel)",
   "language": "python",
   "name": "python3"
  },
  "language_info": {
   "codemirror_mode": {
    "name": "ipython",
    "version": 3
   },
   "file_extension": ".py",
   "mimetype": "text/x-python",
   "name": "python",
   "nbconvert_exporter": "python",
   "pygments_lexer": "ipython3",
   "version": "3.10.5"
  }
 },
 "nbformat": 4,
 "nbformat_minor": 5
}
